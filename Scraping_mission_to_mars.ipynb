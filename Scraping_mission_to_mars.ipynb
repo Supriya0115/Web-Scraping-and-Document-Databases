{
 "cells": [
  {
   "cell_type": "markdown",
   "metadata": {},
   "source": [
    "# Import Libraries"
   ]
  },
  {
   "cell_type": "code",
   "execution_count": 1,
   "metadata": {},
   "outputs": [],
   "source": [
    "# Import Dependencies\n",
    "\n",
    "from bs4 import BeautifulSoup\n",
    "import requests\n",
    "from splinter import Browser\n",
    "import time\n",
    "import pandas as pd\n",
    "\n",
    "\n",
    "executable_path = {'executable_path': 'chromedriver.exe'}\n",
    "browser = Browser('chrome', **executable_path, headless=False)"
   ]
  },
  {
   "cell_type": "markdown",
   "metadata": {},
   "source": [
    "# Web Scraping :  NASA Mars News "
   ]
  },
  {
   "cell_type": "code",
   "execution_count": 2,
   "metadata": {},
   "outputs": [
    {
     "name": "stdout",
     "output_type": "stream",
     "text": [
      "News Title:\n",
      "Meet the People Behind NASA's InSight Mars Lander\n",
      "\n",
      "-----------------\n",
      "\n",
      "News Para:\n",
      "A series of NASA videos highlight scientists and engineers leading the next mission to Mars.\n"
     ]
    }
   ],
   "source": [
    "# URL of page to be scraped\n",
    "\n",
    "url_to_scrape = 'https://mars.nasa.gov/news/?page=0&per_page=40&order=publish_date+desc%2Ccreated_at+desc&search=&category=19%2C165%2C184%2C204&blank_scope=Latest'\n",
    "browser.visit(url_to_scrape)\n",
    "\n",
    "# Retrieve page with the browser module, Create BeautifulSoup object; parse with 'html.parser'\n",
    "\n",
    "html = browser.html\n",
    "soup = BeautifulSoup(html, 'html.parser')\n",
    "\n",
    "# Find the latest News Title and Paragraph Text\n",
    "\n",
    "news_title = soup.find('li',class_=\"slide\").find('div',class_=\"content_title\").text\n",
    "news_para = soup.find('li',class_=\"slide\").find('div',class_=\"article_teaser_body\").text\n",
    "\n",
    "print(f\"News Title:\\n{news_title}\")\n",
    "print('\\n-----------------\\n')\n",
    "print(f\"News Para:\\n{news_para}\")"
   ]
  },
  {
   "cell_type": "markdown",
   "metadata": {},
   "source": [
    "# Web Scraping : Mars Space Images - Featured Image"
   ]
  },
  {
   "cell_type": "code",
   "execution_count": 3,
   "metadata": {},
   "outputs": [
    {
     "name": "stdout",
     "output_type": "stream",
     "text": [
      "\n",
      "-----------------\n",
      "\n",
      "Featured Image URL:\n",
      "https://www.jpl.nasa.gov//spaceimages/images/mediumsize/PIA09113_ip.jpg\n"
     ]
    }
   ],
   "source": [
    "# URL of page to be scraped\n",
    "\n",
    "image_url = 'https://www.jpl.nasa.gov/spaceimages/?search=&category=Mars'\n",
    "browser.visit(image_url)\n",
    "\n",
    "# Retrieve page with the browser module, Create BeautifulSoup object; parse with 'html.parser'\n",
    "\n",
    "html = browser.html\n",
    "soup = BeautifulSoup(html, 'html.parser')\n",
    "\n",
    "# Find the featured_image_url\n",
    "\n",
    "image = soup.find(class_=\"button fancybox\")[\"data-fancybox-href\"]\n",
    "\n",
    "featured_image_url = \"https://www.jpl.nasa.gov/\" + image\n",
    "\n",
    "print('\\n-----------------\\n')\n",
    "\n",
    "print(f\"Featured Image URL:\\n{featured_image_url}\")"
   ]
  },
  {
   "cell_type": "markdown",
   "metadata": {},
   "source": [
    "# Web Scraping : Mars Weather from Twitter "
   ]
  },
  {
   "cell_type": "code",
   "execution_count": 4,
   "metadata": {},
   "outputs": [
    {
     "name": "stdout",
     "output_type": "stream",
     "text": [
      "\n",
      "-----------------\n",
      "\n",
      "Latest Tweet:\n",
      "A view of this morning’s launch of the Parker #SolarProbe launch from about 3 miles awayhttps://youtu.be/hDhIane1Rso \n"
     ]
    }
   ],
   "source": [
    "# URL of page to be scraped\n",
    "\n",
    "mars_twitter_url = 'https://twitter.com/MarsWxReport?lang=en'\n",
    "browser.visit(mars_twitter_url)\n",
    "\n",
    "# Retrieve page with the browser module, Create BeautifulSoup object; parse with 'html.parser'\n",
    "\n",
    "html = browser.html\n",
    "soup = BeautifulSoup(html, 'html.parser')\n",
    "\n",
    "# Find the featured_image_url\n",
    "\n",
    "mars_weather  = soup.find('p',class_=\"TweetTextSize TweetTextSize--normal js-tweet-text tweet-text\").text\n",
    "\n",
    "print('\\n-----------------\\n')\n",
    "\n",
    "print(f\"Latest Tweet:\\n{mars_weather}\")"
   ]
  },
  {
   "cell_type": "markdown",
   "metadata": {},
   "source": [
    "# Web Scraping : Mars Facts "
   ]
  },
  {
   "cell_type": "code",
   "execution_count": 5,
   "metadata": {},
   "outputs": [
    {
     "data": {
      "text/html": [
       "<div>\n",
       "<style scoped>\n",
       "    .dataframe tbody tr th:only-of-type {\n",
       "        vertical-align: middle;\n",
       "    }\n",
       "\n",
       "    .dataframe tbody tr th {\n",
       "        vertical-align: top;\n",
       "    }\n",
       "\n",
       "    .dataframe thead th {\n",
       "        text-align: right;\n",
       "    }\n",
       "</style>\n",
       "<table border=\"1\" class=\"dataframe\">\n",
       "  <thead>\n",
       "    <tr style=\"text-align: right;\">\n",
       "      <th></th>\n",
       "      <th>Attribute</th>\n",
       "      <th>Value</th>\n",
       "    </tr>\n",
       "  </thead>\n",
       "  <tbody>\n",
       "    <tr>\n",
       "      <th>0</th>\n",
       "      <td>Equatorial Diameter:</td>\n",
       "      <td>6,792 km</td>\n",
       "    </tr>\n",
       "    <tr>\n",
       "      <th>1</th>\n",
       "      <td>Polar Diameter:</td>\n",
       "      <td>6,752 km</td>\n",
       "    </tr>\n",
       "    <tr>\n",
       "      <th>2</th>\n",
       "      <td>Mass:</td>\n",
       "      <td>6.42 x 10^23 kg (10.7% Earth)</td>\n",
       "    </tr>\n",
       "    <tr>\n",
       "      <th>3</th>\n",
       "      <td>Moons:</td>\n",
       "      <td>2 (Phobos &amp; Deimos)</td>\n",
       "    </tr>\n",
       "    <tr>\n",
       "      <th>4</th>\n",
       "      <td>Orbit Distance:</td>\n",
       "      <td>227,943,824 km (1.52 AU)</td>\n",
       "    </tr>\n",
       "    <tr>\n",
       "      <th>5</th>\n",
       "      <td>Orbit Period:</td>\n",
       "      <td>687 days (1.9 years)</td>\n",
       "    </tr>\n",
       "    <tr>\n",
       "      <th>6</th>\n",
       "      <td>Surface Temperature:</td>\n",
       "      <td>-153 to 20 °C</td>\n",
       "    </tr>\n",
       "    <tr>\n",
       "      <th>7</th>\n",
       "      <td>First Record:</td>\n",
       "      <td>2nd millennium BC</td>\n",
       "    </tr>\n",
       "    <tr>\n",
       "      <th>8</th>\n",
       "      <td>Recorded By:</td>\n",
       "      <td>Egyptian astronomers</td>\n",
       "    </tr>\n",
       "  </tbody>\n",
       "</table>\n",
       "</div>"
      ],
      "text/plain": [
       "              Attribute                          Value\n",
       "0  Equatorial Diameter:                       6,792 km\n",
       "1       Polar Diameter:                       6,752 km\n",
       "2                 Mass:  6.42 x 10^23 kg (10.7% Earth)\n",
       "3                Moons:            2 (Phobos & Deimos)\n",
       "4       Orbit Distance:       227,943,824 km (1.52 AU)\n",
       "5         Orbit Period:           687 days (1.9 years)\n",
       "6  Surface Temperature:                  -153 to 20 °C\n",
       "7         First Record:              2nd millennium BC\n",
       "8          Recorded By:           Egyptian astronomers"
      ]
     },
     "execution_count": 5,
     "metadata": {},
     "output_type": "execute_result"
    }
   ],
   "source": [
    "# read_html function in Pandas to automatically scrape any tabular data from a page.\n",
    "\n",
    "mars_facts_url = 'https://space-facts.com/mars/'\n",
    "mars_facts_tables = pd.read_html(mars_facts_url)[0]\n",
    "mars_facts_tables.columns = ['Attribute','Value']\n",
    "mars_facts_tables"
   ]
  },
  {
   "cell_type": "code",
   "execution_count": 6,
   "metadata": {},
   "outputs": [],
   "source": [
    "#DataFrames as HTML\n",
    "#Save the table directly to a file\n",
    "\n",
    "mars_facts_tables.to_html('mars_facts_table.html',index=False)"
   ]
  },
  {
   "cell_type": "markdown",
   "metadata": {},
   "source": [
    "# Web Scraping : Mars Hemispheres"
   ]
  },
  {
   "cell_type": "code",
   "execution_count": 7,
   "metadata": {},
   "outputs": [],
   "source": [
    "# URL of page to be scraped\n",
    "\n",
    "mars_hem_url = 'https://astrogeology.usgs.gov/search/results?q=hemisphere+enhanced&k1=target&v1=Mars'\n",
    "browser.visit(mars_hem_url)\n",
    "\n",
    "hemisphere_image_urls = []\n",
    "\n",
    "# Retrieve page with the browser module, Create BeautifulSoup object; parse with 'html.parser'\n",
    "\n",
    "html = browser.html\n",
    "soup = BeautifulSoup(html, 'html.parser')\n",
    "\n",
    "# Examine the results, then determine element that contains sought info\n",
    "# results are returned as an iterable list\n",
    "\n",
    "results = soup.find('div', class_='result-list').find_all('div',class_='item')"
   ]
  },
  {
   "cell_type": "code",
   "execution_count": 8,
   "metadata": {},
   "outputs": [
    {
     "name": "stdout",
     "output_type": "stream",
     "text": [
      "\n",
      "-----------------\n",
      "\n",
      "{'title': 'Cerberus Hemisphere', 'image_url': 'http://astropedia.astrogeology.usgs.gov/download/Mars/Viking/cerberus_enhanced.tif/full.jpg'}\n",
      "\n",
      "-----------------\n",
      "\n",
      "{'title': 'Schiaparelli Hemisphere', 'image_url': 'http://astropedia.astrogeology.usgs.gov/download/Mars/Viking/schiaparelli_enhanced.tif/full.jpg'}\n",
      "\n",
      "-----------------\n",
      "\n",
      "{'title': 'Syrtis Major', 'image_url': 'http://astropedia.astrogeology.usgs.gov/download/Mars/Viking/syrtis_major_enhanced.tif/full.jpg'}\n",
      "\n",
      "-----------------\n",
      "\n",
      "{'title': 'Valles Marineris', 'image_url': 'http://astropedia.astrogeology.usgs.gov/download/Mars/Viking/valles_marineris_enhanced.tif/full.jpg'}\n"
     ]
    }
   ],
   "source": [
    "# Image URL to be appended for each iteration\n",
    "\n",
    "root_image_url = 'https://astrogeology.usgs.gov/'\n",
    "\n",
    "for result in results:\n",
    "    title = result.find('div',class_='description').h3.text\n",
    "    \n",
    "    # split the h3 text to remove \"enhanced\" from each hemisphere name e.g. Cerberus Hemisphere Enhanced\n",
    "    title_split_join = ' '.join(title.split()[0:2]) \n",
    "    \n",
    "    # create url for each hemisphere image\n",
    "    image_url = root_image_url + result.find('a',class_='itemLink product-item')['href']\n",
    "    browser.visit(image_url)\n",
    "    html = browser.html\n",
    "    soup = BeautifulSoup(html, 'html.parser')\n",
    "    final_image_url = soup.find('div',class_='downloads').a['href']\n",
    "    \n",
    "    hemisphere_image = {\n",
    "        \"title\" : title_split_join,\n",
    "        \"image_url\" : final_image_url\n",
    "    }\n",
    "    hemisphere_image_urls.append(hemisphere_image)\n",
    "    \n",
    "    print('\\n-----------------\\n')\n",
    "    print(hemisphere_image)\n"
   ]
  }
 ],
 "metadata": {
  "kernelspec": {
   "display_name": "Python 3",
   "language": "python",
   "name": "python3"
  },
  "language_info": {
   "codemirror_mode": {
    "name": "ipython",
    "version": 3
   },
   "file_extension": ".py",
   "mimetype": "text/x-python",
   "name": "python",
   "nbconvert_exporter": "python",
   "pygments_lexer": "ipython3",
   "version": "3.6.5"
  }
 },
 "nbformat": 4,
 "nbformat_minor": 2
}
